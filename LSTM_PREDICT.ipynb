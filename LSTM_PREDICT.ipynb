{
  "nbformat": 4,
  "nbformat_minor": 0,
  "metadata": {
    "accelerator": "GPU",
    "colab": {
      "name": "LSTM PREDICTION OPTION OPTIMIZER의 사본",
      "provenance": [],
      "collapsed_sections": [],
      "toc_visible": true
    },
    "kernelspec": {
      "display_name": "Python 3",
      "name": "python3"
    }
  },
  "cells": [
    {
      "cell_type": "markdown",
      "metadata": {
        "id": "gIAf9TAL9Yyb"
      },
      "source": [
        "## 업비트 시계열 데이터 LSTM 미래 예측 예제\n",
        "- 지금까지의 동향으로 미래의 흐름을 예측합니다.\n",
        "- 앞의 window_size(x)를 기준으로 다음 미래 1스텝(y) 를 예측합니다.\n",
        "\n",
        "### 수정할 변수들\n",
        "1.   time_step = 앞의 몇개를 가지고 다음을 예측할 것인지 (= window size)\n",
        "2.   future_step = 몇스탭뒤 미래를 예측할 것인지.\n",
        "3.   coinName = 코인이름을 바꿔준다. (이름은 업비트 사이트 참고한다. KRW-OOO 형식)\n",
        "4.   to_date = 과거 언제까지 데이터를 추출할지 정한다.\n",
        "5. training_percent = 데이터의 몇 %를 학습에 사용할지 정한다\n",
        "\n",
        "데이터의 크기, 몇분봉 기준, 윈도우 사이즈에 따라 예측결과가 상이하게 바뀐다.\n",
        "특히 윈도우 사이즈가 중요함.\n"
      ]
    },
    {
      "cell_type": "code",
      "metadata": {
        "id": "SGzvnJRgwQWy"
      },
      "source": [
        "#수정할 곳\n",
        "time_step = 50\n",
        "future_step = 30\n",
        "training_percent = 0.90\n",
        "\n",
        "coinName = 'KRW-BTC' #(수정할것)\n",
        "to_date = '2019-08-08'\n",
        "type = 'minutes'  #minutes/#, days, weeks, months\n",
        "scale = '240' #minutes 인경우만 수정(몇분 단위인지)\n",
        "train_time = 10"
      ],
      "execution_count": 6,
      "outputs": []
    },
    {
      "cell_type": "code",
      "metadata": {
        "id": "LL9Py3ka70Ye"
      },
      "source": [
        "import urllib.request\n",
        "import time\n",
        "import requests\n",
        "import pandas as pd\n",
        "import numpy as np\n",
        "import matplotlib.pyplot as plt\n",
        "import matplotlib.font_manager as fm\n",
        "import math\n",
        "import json\n",
        "import datetime\n",
        "import codecs\n",
        "from sklearn.preprocessing import MinMaxScaler\n",
        "from sklearn.metrics import mean_squared_error\n",
        "from keras.models import Sequential\n",
        "from keras.layers import LSTM, Dropout, Dense, Activation\n",
        "from datetime import timedelta"
      ],
      "execution_count": 7,
      "outputs": []
    },
    {
      "cell_type": "code",
      "metadata": {
        "colab": {
          "base_uri": "https://localhost:8080/",
          "height": 49
        },
        "id": "OmzFtw7Y782U",
        "outputId": "0de0e6eb-1bc8-4d7f-8f19-2fdb2931ab81"
      },
      "source": [
        "#저장용 빈 데이터 프레임 생성\n",
        "data_frame = pd.DataFrame(columns=['date', 'open','high','low','final', 'vol'])\n",
        "data_frame"
      ],
      "execution_count": 8,
      "outputs": [
        {
          "output_type": "execute_result",
          "data": {
            "text/html": [
              "<div>\n",
              "<style scoped>\n",
              "    .dataframe tbody tr th:only-of-type {\n",
              "        vertical-align: middle;\n",
              "    }\n",
              "\n",
              "    .dataframe tbody tr th {\n",
              "        vertical-align: top;\n",
              "    }\n",
              "\n",
              "    .dataframe thead th {\n",
              "        text-align: right;\n",
              "    }\n",
              "</style>\n",
              "<table border=\"1\" class=\"dataframe\">\n",
              "  <thead>\n",
              "    <tr style=\"text-align: right;\">\n",
              "      <th></th>\n",
              "      <th>date</th>\n",
              "      <th>open</th>\n",
              "      <th>high</th>\n",
              "      <th>low</th>\n",
              "      <th>final</th>\n",
              "      <th>vol</th>\n",
              "    </tr>\n",
              "  </thead>\n",
              "  <tbody>\n",
              "  </tbody>\n",
              "</table>\n",
              "</div>"
            ],
            "text/plain": [
              "Empty DataFrame\n",
              "Columns: [date, open, high, low, final, vol]\n",
              "Index: []"
            ]
          },
          "metadata": {
            "tags": []
          },
          "execution_count": 8
        }
      ]
    },
    {
      "cell_type": "markdown",
      "metadata": {
        "id": "rV1ztZ4DxiFs"
      },
      "source": [
        ""
      ]
    },
    {
      "cell_type": "markdown",
      "metadata": {
        "id": "kGwk9IU6eViX"
      },
      "source": [
        "### 업비트 데이터 가져오기\n",
        "\n"
      ]
    },
    {
      "cell_type": "code",
      "metadata": {
        "id": "s1s6CQPx79gQ"
      },
      "source": [
        "#show_title = 1\n",
        "\n",
        "# last_date 이전 데이터만 출력\n",
        "# to_date 이후 데이터만 출력\n",
        "\n",
        "def get_upbit_date(url, target_date): #날짜 추출하기\n",
        "  while (True):\n",
        "      for i in range(0,3):\n",
        "        try :\n",
        "            response = requests.get(url)\n",
        "        except Exception as e:\n",
        "            print(str(e))\n",
        "            print('오류가 발생하여 재시도 합니다...')\n",
        "            time.sleep(3)\n",
        "            continue\n",
        "        if str(response) == '<Response [200]>':\n",
        "            break\n",
        "      data = response.json()\n",
        "      end_date = data[-1]['candleDateTime'] #맨끝 데이터\n",
        "      print(end_date)\n",
        "      tmp1 = end_date.split('T') #EX) 2021-02-01T06:45:00+00:00\n",
        "      if tmp1[0] > target_date : #맨끝 시간이 \n",
        "        break\n",
        "      tmp2 = tmp1[1].split('+')\n",
        "      target_date = tmp1[0] + ' ' + tmp2[0]\n",
        "      next_url = url + '&to=' + target_date    #to=2019-11-27 04:01:00\n",
        "\n",
        "def get_upbit_data(url, last_date, to_date):\n",
        "  #global show_title\n",
        "  global data_frame\n",
        "  # 데이터 예외처리\n",
        "  response = ''\n",
        "  while True:\n",
        "      try :\n",
        "          response = requests.get(url)\n",
        "      except Exception as e:\n",
        "          print(str(e))\n",
        "          print('오류가 발생하여 재시도 합니다...')\n",
        "          time.sleep(3)\n",
        "          continue\n",
        "      if str(response) == '<Response [200]>':\n",
        "          break\n",
        "\n",
        "  #json 객체화\n",
        "  data = response.json()\n",
        "  code = data[0]['code']\n",
        "\n",
        "\n",
        "  #if show_title:\n",
        "  #    show_title = 0\n",
        "  #    print(code)\n",
        "  #    print(\"=========================================================\")\n",
        "  #    print(\"          date         open   high   low   final   vol\")\n",
        "  #    print(\"=========================================================\")\n",
        "\n",
        "  date = ''\n",
        "  dateKst = ''\n",
        "  for i in range(len(data))  :\n",
        "      dateKst = data[i]['candleDateTimeKst']\n",
        "      date = data[i]['candleDateTime']\n",
        "      if (last_date == '' or last_date > date) :\n",
        "          if (dateKst >= to_date) :\n",
        "              simpleDate = dateKst.split('+')\n",
        "              \n",
        "              #데이터 출력\n",
        "              #print(simpleDate[0], data[i]['openingPrice'], data[i]['highPrice'], data[i]['lowPrice'], data[i]['tradePrice'], data[i]['candleAccTradeVolume']);\n",
        "              #print('sequence...' + str(i))\n",
        "              current_data = pd.DataFrame(\n",
        "              {\n",
        "                  'date': [simpleDate[0]],\n",
        "                  'open': [data[i]['openingPrice']],\n",
        "                  'high': [data[i]['highPrice']],\n",
        "                  'low': [data[i]['lowPrice']],\n",
        "                  'final': [data[i]['tradePrice']],\n",
        "                  'vol': [data[i]['candleAccTradeVolume']],\n",
        "              })\n",
        "              data_frame = data_frame.append(current_data) #데이터 프레임에 얻은 데이터를 차곡차곡 저장시킨다.\n",
        "          else:\n",
        "              break\n",
        "\n",
        "  return date\n",
        "\n",
        "def get_coin_data_url(coinName, type, scale, cnt=400) :\n",
        "    #addr = 'https://crix-api-endpoint.upbit.com/v1/crix/candles/'\n",
        "    addr = 'https://crix-api-cdn.upbit.com/v1/crix/candles/'\n",
        "    #https://crix-api-cdn.upbit.com/v1/crix/candles/minutes/240?code=CRIX.UPBIT.KRW-NPXS&count=200&ciqrandom=1612867691544\n",
        "    if type == 'minutes' : #분봉이라면\n",
        "        basic_url = addr + type + '/' + scale + '?code=CRIX.UPBIT.' + coinName +'&count='+str(cnt)\n",
        "    else : #아니라면\n",
        "        basic_url = addr + type + '/' + '?code=CRIX.UPBIT.' + coinName +'&count='+str(cnt)\n",
        "\n",
        "    return basic_url"
      ],
      "execution_count": 9,
      "outputs": []
    },
    {
      "cell_type": "code",
      "metadata": {
        "colab": {
          "base_uri": "https://localhost:8080/"
        },
        "id": "Aux_srg17-Ok",
        "outputId": "7ea5ea65-86be-412d-9ca6-a6f418b9c4ce"
      },
      "source": [
        "data_frame = pd.DataFrame(columns=['date', 'open','high','low','final', 'vol'])\n",
        "end = 0\n",
        "last_date = ''\n",
        "basic_url = get_coin_data_url(coinName, type , scale) #type에 따라 url 처리\n",
        "url = basic_url #url 변수에 추가저장\n",
        " \n",
        "print(url)\n",
        "get_upbit_date(url, to_date)\n",
        " \n",
        "while (1) :\n",
        "  last_date = get_upbit_data(url, last_date, to_date)\n",
        "  tmp1 = last_date.split('T')\n",
        "  if tmp1[0]  < to_date :\n",
        "      break\n",
        "  tmp2 = tmp1[1].split('+')\n",
        "  target_date = tmp1[0] + ' ' + tmp2[0]\n",
        "  url = basic_url + '&to=' + target_date    #to=2019-11-27 04:01:00\n",
        "  print(url)\n",
        " \n",
        "print('Finish')"
      ],
      "execution_count": 10,
      "outputs": [
        {
          "output_type": "stream",
          "text": [
            "https://crix-api-cdn.upbit.com/v1/crix/candles/minutes/240?code=CRIX.UPBIT.KRW-BTC&count=400\n",
            "2021-03-25T00:00:00+00:00\n",
            "https://crix-api-cdn.upbit.com/v1/crix/candles/minutes/240?code=CRIX.UPBIT.KRW-BTC&count=400&to=2021-03-25 00:00:00\n",
            "https://crix-api-cdn.upbit.com/v1/crix/candles/minutes/240?code=CRIX.UPBIT.KRW-BTC&count=400&to=2021-01-17 08:00:00\n",
            "https://crix-api-cdn.upbit.com/v1/crix/candles/minutes/240?code=CRIX.UPBIT.KRW-BTC&count=400&to=2020-11-11 16:00:00\n",
            "https://crix-api-cdn.upbit.com/v1/crix/candles/minutes/240?code=CRIX.UPBIT.KRW-BTC&count=400&to=2020-09-06 00:00:00\n",
            "https://crix-api-cdn.upbit.com/v1/crix/candles/minutes/240?code=CRIX.UPBIT.KRW-BTC&count=400&to=2020-07-01 08:00:00\n",
            "https://crix-api-cdn.upbit.com/v1/crix/candles/minutes/240?code=CRIX.UPBIT.KRW-BTC&count=400&to=2020-04-25 16:00:00\n",
            "https://crix-api-cdn.upbit.com/v1/crix/candles/minutes/240?code=CRIX.UPBIT.KRW-BTC&count=400&to=2020-02-19 00:00:00\n",
            "https://crix-api-cdn.upbit.com/v1/crix/candles/minutes/240?code=CRIX.UPBIT.KRW-BTC&count=400&to=2019-12-14 08:00:00\n",
            "https://crix-api-cdn.upbit.com/v1/crix/candles/minutes/240?code=CRIX.UPBIT.KRW-BTC&count=400&to=2019-10-08 16:00:00\n",
            "Finish\n"
          ],
          "name": "stdout"
        }
      ]
    },
    {
      "cell_type": "markdown",
      "metadata": {
        "id": "Md47yTuRep0t"
      },
      "source": [
        "### 가져온 데이터 출력"
      ]
    },
    {
      "cell_type": "code",
      "metadata": {
        "id": "1jqM0hQc8Adp",
        "colab": {
          "base_uri": "https://localhost:8080/",
          "height": 419
        },
        "outputId": "69ac4c46-dcbf-4544-fbfe-6b1fc9248ebb"
      },
      "source": [
        "#데이터 출력\n",
        "pd.options.display.float_format = '{:.8f}'.format #소수점 8자리까지 print시 표시\n",
        "data_frame = data_frame.sort_values(by=['date']) #오름차순 정렬\n",
        "data_frame.index = range(0, data_frame.shape[0]) #인덱스 매기기\n",
        "data_frame"
      ],
      "execution_count": 11,
      "outputs": [
        {
          "output_type": "execute_result",
          "data": {
            "text/html": [
              "<div>\n",
              "<style scoped>\n",
              "    .dataframe tbody tr th:only-of-type {\n",
              "        vertical-align: middle;\n",
              "    }\n",
              "\n",
              "    .dataframe tbody tr th {\n",
              "        vertical-align: top;\n",
              "    }\n",
              "\n",
              "    .dataframe thead th {\n",
              "        text-align: right;\n",
              "    }\n",
              "</style>\n",
              "<table border=\"1\" class=\"dataframe\">\n",
              "  <thead>\n",
              "    <tr style=\"text-align: right;\">\n",
              "      <th></th>\n",
              "      <th>date</th>\n",
              "      <th>open</th>\n",
              "      <th>high</th>\n",
              "      <th>low</th>\n",
              "      <th>final</th>\n",
              "      <th>vol</th>\n",
              "    </tr>\n",
              "  </thead>\n",
              "  <tbody>\n",
              "    <tr>\n",
              "      <th>0</th>\n",
              "      <td>2019-08-08T01:00:00</td>\n",
              "      <td>13894000.00000000</td>\n",
              "      <td>14085000.00000000</td>\n",
              "      <td>13775000.00000000</td>\n",
              "      <td>14050000.00000000</td>\n",
              "      <td>1168.67908419</td>\n",
              "    </tr>\n",
              "    <tr>\n",
              "      <th>1</th>\n",
              "      <td>2019-08-08T05:00:00</td>\n",
              "      <td>14050000.00000000</td>\n",
              "      <td>14307000.00000000</td>\n",
              "      <td>13906000.00000000</td>\n",
              "      <td>14219000.00000000</td>\n",
              "      <td>1787.72003779</td>\n",
              "    </tr>\n",
              "    <tr>\n",
              "      <th>2</th>\n",
              "      <td>2019-08-08T09:00:00</td>\n",
              "      <td>14197000.00000000</td>\n",
              "      <td>14307000.00000000</td>\n",
              "      <td>14091000.00000000</td>\n",
              "      <td>14214000.00000000</td>\n",
              "      <td>1866.38450421</td>\n",
              "    </tr>\n",
              "    <tr>\n",
              "      <th>3</th>\n",
              "      <td>2019-08-08T13:00:00</td>\n",
              "      <td>14214000.00000000</td>\n",
              "      <td>14240000.00000000</td>\n",
              "      <td>14050000.00000000</td>\n",
              "      <td>14190000.00000000</td>\n",
              "      <td>1576.37647423</td>\n",
              "    </tr>\n",
              "    <tr>\n",
              "      <th>4</th>\n",
              "      <td>2019-08-08T17:00:00</td>\n",
              "      <td>14190000.00000000</td>\n",
              "      <td>14256000.00000000</td>\n",
              "      <td>14080000.00000000</td>\n",
              "      <td>14113000.00000000</td>\n",
              "      <td>1185.59650353</td>\n",
              "    </tr>\n",
              "    <tr>\n",
              "      <th>...</th>\n",
              "      <td>...</td>\n",
              "      <td>...</td>\n",
              "      <td>...</td>\n",
              "      <td>...</td>\n",
              "      <td>...</td>\n",
              "      <td>...</td>\n",
              "    </tr>\n",
              "    <tr>\n",
              "      <th>3967</th>\n",
              "      <td>2021-05-30T05:00:00</td>\n",
              "      <td>41893000.00000000</td>\n",
              "      <td>42994000.00000000</td>\n",
              "      <td>41744000.00000000</td>\n",
              "      <td>42688000.00000000</td>\n",
              "      <td>1041.01878312</td>\n",
              "    </tr>\n",
              "    <tr>\n",
              "      <th>3968</th>\n",
              "      <td>2021-05-30T09:00:00</td>\n",
              "      <td>42688000.00000000</td>\n",
              "      <td>42736000.00000000</td>\n",
              "      <td>40580000.00000000</td>\n",
              "      <td>42041000.00000000</td>\n",
              "      <td>2675.76804192</td>\n",
              "    </tr>\n",
              "    <tr>\n",
              "      <th>3969</th>\n",
              "      <td>2021-05-30T13:00:00</td>\n",
              "      <td>42041000.00000000</td>\n",
              "      <td>43550000.00000000</td>\n",
              "      <td>41861000.00000000</td>\n",
              "      <td>43109000.00000000</td>\n",
              "      <td>2244.87040786</td>\n",
              "    </tr>\n",
              "    <tr>\n",
              "      <th>3970</th>\n",
              "      <td>2021-05-30T17:00:00</td>\n",
              "      <td>43109000.00000000</td>\n",
              "      <td>43659000.00000000</td>\n",
              "      <td>42400000.00000000</td>\n",
              "      <td>43659000.00000000</td>\n",
              "      <td>1348.92205382</td>\n",
              "    </tr>\n",
              "    <tr>\n",
              "      <th>3971</th>\n",
              "      <td>2021-05-30T21:00:00</td>\n",
              "      <td>43659000.00000000</td>\n",
              "      <td>43781000.00000000</td>\n",
              "      <td>42506000.00000000</td>\n",
              "      <td>42800000.00000000</td>\n",
              "      <td>778.34163256</td>\n",
              "    </tr>\n",
              "  </tbody>\n",
              "</table>\n",
              "<p>3972 rows × 6 columns</p>\n",
              "</div>"
            ],
            "text/plain": [
              "                     date              open  ...             final           vol\n",
              "0     2019-08-08T01:00:00 13894000.00000000  ... 14050000.00000000 1168.67908419\n",
              "1     2019-08-08T05:00:00 14050000.00000000  ... 14219000.00000000 1787.72003779\n",
              "2     2019-08-08T09:00:00 14197000.00000000  ... 14214000.00000000 1866.38450421\n",
              "3     2019-08-08T13:00:00 14214000.00000000  ... 14190000.00000000 1576.37647423\n",
              "4     2019-08-08T17:00:00 14190000.00000000  ... 14113000.00000000 1185.59650353\n",
              "...                   ...               ...  ...               ...           ...\n",
              "3967  2021-05-30T05:00:00 41893000.00000000  ... 42688000.00000000 1041.01878312\n",
              "3968  2021-05-30T09:00:00 42688000.00000000  ... 42041000.00000000 2675.76804192\n",
              "3969  2021-05-30T13:00:00 42041000.00000000  ... 43109000.00000000 2244.87040786\n",
              "3970  2021-05-30T17:00:00 43109000.00000000  ... 43659000.00000000 1348.92205382\n",
              "3971  2021-05-30T21:00:00 43659000.00000000  ... 42800000.00000000  778.34163256\n",
              "\n",
              "[3972 rows x 6 columns]"
            ]
          },
          "metadata": {
            "tags": []
          },
          "execution_count": 11
        }
      ]
    },
    {
      "cell_type": "code",
      "metadata": {
        "id": "9NO_T_O6oppi"
      },
      "source": [
        "#데이터 분할\n",
        "#splited_data = data_frame.loc[0:14664]\n",
        "#splited_data"
      ],
      "execution_count": 12,
      "outputs": []
    },
    {
      "cell_type": "code",
      "metadata": {
        "id": "oWB4SZ498CY3"
      },
      "source": [
        "# 결측치 제거 (LOSS NAN 제거)\n",
        "data = data_frame.dropna()"
      ],
      "execution_count": 13,
      "outputs": []
    },
    {
      "cell_type": "code",
      "metadata": {
        "id": "L7YsXmZ58nLB"
      },
      "source": [
        "#예측할것은 (고점-저점) 평균 데이터\n",
        "high_prices = data['high'].values\n",
        "low_prices = data['low'].values\n",
        "mid_prices = (high_prices + low_prices) / 2"
      ],
      "execution_count": 14,
      "outputs": []
    },
    {
      "cell_type": "code",
      "metadata": {
        "id": "1jd5oyxu9A0d",
        "colab": {
          "base_uri": "https://localhost:8080/"
        },
        "outputId": "5b7e8cff-46bd-463a-cafb-af711e37d1e9"
      },
      "source": [
        "#데이터 확인\n",
        "mid_prices[0:10]"
      ],
      "execution_count": 15,
      "outputs": [
        {
          "output_type": "execute_result",
          "data": {
            "text/plain": [
              "array([13930000., 14106500., 14199000., 14145000., 14168000., 14048000.,\n",
              "       13953000., 14083500., 14230000., 14154500.])"
            ]
          },
          "metadata": {
            "tags": []
          },
          "execution_count": 15
        }
      ]
    },
    {
      "cell_type": "markdown",
      "metadata": {
        "id": "PIal1-fjiFdA"
      },
      "source": [
        "### 값 시각화(plot)"
      ]
    },
    {
      "cell_type": "code",
      "metadata": {
        "id": "8_eijCqh8omB",
        "colab": {
          "base_uri": "https://localhost:8080/",
          "height": 644
        },
        "outputId": "f6d927df-c17f-4061-bc3f-d3fa3a6804de"
      },
      "source": [
        "plt.figure(figsize = (18,9))\n",
        "mid_list = data['low']+data['high'] / 2.0\n",
        "plt.plot(range(data.shape[0]), (mid_list))\n",
        "plt.xticks(range(0 , data.shape[0] , 500) , data['date'].loc[::500],rotation=45) #눈금 45도 회전해서 출력\n",
        "plt.xlabel('Date',fontsize=18)\n",
        "plt.ylabel('Mid Price',fontsize=18)\n",
        "plt.show()"
      ],
      "execution_count": 16,
      "outputs": [
        {
          "output_type": "display_data",
          "data": {
            "image/png": "[encoded data removed]",
            "text/plain": [
              "<Figure size 1296x648 with 1 Axes>"
            ]
          },
          "metadata": {
            "tags": [],
            "needs_background": "light"
          }
        }
      ]
    },
    {
      "cell_type": "markdown",
      "metadata": {
        "id": "9V9Q7MURjEHI"
      },
      "source": [
        "### 데이터 전처리(PRE PROCESSING)"
      ]
    },
    {
      "cell_type": "code",
      "metadata": {
        "id": "3CyMwng18vWj"
      },
      "source": [
        "#LSTM은 데이터에 민감하므로 0~1 값으로 변환해준다.\n",
        "scaler=MinMaxScaler(feature_range=(0,1))\n",
        "mid_prices=scaler.fit_transform(np.array(mid_prices).reshape(-1,1))"
      ],
      "execution_count": 17,
      "outputs": []
    },
    {
      "cell_type": "code",
      "metadata": {
        "id": "bOAatfOA-SS1"
      },
      "source": [
        "##학습, 테스트 데이터 나누기\n",
        "\n",
        "training_size=int(len(mid_prices)* training_percent)\n",
        "test_size=len(mid_prices)-training_size\n",
        "train_data,test_data = mid_prices[0:training_size,:],mid_prices[training_size:len(mid_prices),:1]"
      ],
      "execution_count": 18,
      "outputs": []
    },
    {
      "cell_type": "code",
      "metadata": {
        "id": "D0FLrvIp-V7c",
        "colab": {
          "base_uri": "https://localhost:8080/"
        },
        "outputId": "cd4499ce-b6fb-44f0-9eaf-75d1e8c62592"
      },
      "source": [
        "#학습데이터 크기, 테스트 데이터 크기 출력\n",
        "training_size , test_size"
      ],
      "execution_count": 19,
      "outputs": [
        {
          "output_type": "execute_result",
          "data": {
            "text/plain": [
              "(3574, 398)"
            ]
          },
          "metadata": {
            "tags": []
          },
          "execution_count": 19
        }
      ]
    },
    {
      "cell_type": "markdown",
      "metadata": {
        "id": "HhdFon-1kaN-"
      },
      "source": [
        "### 데이터셋 만들기"
      ]
    },
    {
      "cell_type": "code",
      "metadata": {
        "id": "qA3-7jML-dIZ"
      },
      "source": [
        "# convert an array of values into a dataset matrix\n",
        "# 데이터셋 만들기\n",
        "def create_dataset(dataset, time_step=1):\n",
        "\tdataX, dataY = [], []\n",
        "\tfor i in range(len(dataset)-time_step-1):\n",
        "\t\ta = dataset[i:(i+time_step), 0]   ###i=0, 0,1,2,3-----99   100 \n",
        "\t\tdataX.append(a)\n",
        "\t\tdataY.append(dataset[i + time_step, 0])\n",
        "\treturn np.array(dataX), np.array(dataY)"
      ],
      "execution_count": 20,
      "outputs": []
    },
    {
      "cell_type": "code",
      "metadata": {
        "id": "WvO300Wt-gz3"
      },
      "source": [
        "# reshape into X=t,t+1,t+2,t+3 and Y=t+4\n",
        "X_train, y_train = create_dataset(train_data, time_step)\n",
        "X_test, ytest = create_dataset(test_data, time_step)"
      ],
      "execution_count": 21,
      "outputs": []
    },
    {
      "cell_type": "code",
      "metadata": {
        "id": "dWUBwXT--h9J",
        "colab": {
          "base_uri": "https://localhost:8080/"
        },
        "outputId": "119a60d1-cf97-4c25-f074-c80a023964eb"
      },
      "source": [
        "print(X_train.shape), print(y_train.shape)"
      ],
      "execution_count": 22,
      "outputs": [
        {
          "output_type": "stream",
          "text": [
            "(3523, 50)\n",
            "(3523,)\n"
          ],
          "name": "stdout"
        },
        {
          "output_type": "execute_result",
          "data": {
            "text/plain": [
              "(None, None)"
            ]
          },
          "metadata": {
            "tags": []
          },
          "execution_count": 22
        }
      ]
    },
    {
      "cell_type": "code",
      "metadata": {
        "id": "-Q9i-7AG-mw-",
        "colab": {
          "base_uri": "https://localhost:8080/"
        },
        "outputId": "bcfde28b-deba-4d45-f1bc-0487d1e755e3"
      },
      "source": [
        "print(X_test.shape), print(ytest.shape)"
      ],
      "execution_count": 23,
      "outputs": [
        {
          "output_type": "stream",
          "text": [
            "(347, 50)\n",
            "(347,)\n"
          ],
          "name": "stdout"
        },
        {
          "output_type": "execute_result",
          "data": {
            "text/plain": [
              "(None, None)"
            ]
          },
          "metadata": {
            "tags": []
          },
          "execution_count": 23
        }
      ]
    },
    {
      "cell_type": "code",
      "metadata": {
        "id": "jE6HmNuV-nhH"
      },
      "source": [
        "# reshape input to be [samples, time steps, features] which is required for LSTM\n",
        "X_train=X_train.reshape(X_train.shape[0],X_train.shape[1] , 1)\n",
        "X_test = X_test.reshape(X_test.shape[0],X_test.shape[1] , 1)"
      ],
      "execution_count": 24,
      "outputs": []
    },
    {
      "cell_type": "markdown",
      "metadata": {
        "id": "xVfaQuBfjUUd"
      },
      "source": [
        "### LSTM 모델 제작"
      ]
    },
    {
      "cell_type": "code",
      "metadata": {
        "id": "LNLjjV8y-o9o",
        "colab": {
          "base_uri": "https://localhost:8080/"
        },
        "outputId": "2cea381b-2c3a-430a-a6db-1ac7544c458c"
      },
      "source": [
        "#model=Sequential()\n",
        "#model.add(LSTM(50,return_sequences=True,input_shape=(time_step,1))) #앞의 100개로 다음 1개 예측 (처음 LSTM x값엔 time_step 크기의 데이터가 들어간다.)\n",
        "#model.add(LSTM(50,return_sequences=True))\n",
        "#model.add(LSTM(50))\n",
        "#model.add(Dense(1))\n",
        "#model.compile(loss='mean_squared_error',optimizer='adam')\n",
        "\n",
        "model = Sequential()\n",
        "\n",
        "model.add(LSTM(50, return_sequences=True, input_shape=(time_step, 1)))\n",
        "\n",
        "model.add(LSTM(64, return_sequences=False))\n",
        "\n",
        "model.add(Dense(1, activation='linear'))\n",
        "\n",
        "model.compile(loss='mse', optimizer='rmsprop')\n",
        "\n",
        "model.summary()"
      ],
      "execution_count": 25,
      "outputs": [
        {
          "output_type": "stream",
          "text": [
            "Model: \"sequential\"\n",
            "_________________________________________________________________\n",
            "Layer (type)                 Output Shape              Param #   \n",
            "=================================================================\n",
            "lstm (LSTM)                  (None, 50, 50)            10400     \n",
            "_________________________________________________________________\n",
            "lstm_1 (LSTM)                (None, 64)                29440     \n",
            "_________________________________________________________________\n",
            "dense (Dense)                (None, 1)                 65        \n",
            "=================================================================\n",
            "Total params: 39,905\n",
            "Trainable params: 39,905\n",
            "Non-trainable params: 0\n",
            "_________________________________________________________________\n"
          ],
          "name": "stdout"
        }
      ]
    },
    {
      "cell_type": "code",
      "metadata": {
        "id": "vWeAU8Nk-p2H"
      },
      "source": [
        "#model.summary()"
      ],
      "execution_count": 26,
      "outputs": []
    },
    {
      "cell_type": "markdown",
      "metadata": {
        "id": "5tdKFO4Sjb65"
      },
      "source": [
        "### 모델 학습 시키기"
      ]
    },
    {
      "cell_type": "code",
      "metadata": {
        "id": "K3EbZgXq-q53",
        "colab": {
          "base_uri": "https://localhost:8080/"
        },
        "outputId": "530c38d9-e389-4999-ec55-967e50f6eb9f"
      },
      "source": [
        "model.fit(X_train,y_train,validation_data=(X_test,ytest), epochs=train_time ,batch_size=64 , verbose=1)"
      ],
      "execution_count": 27,
      "outputs": [
        {
          "output_type": "stream",
          "text": [
            "Epoch 1/10\n",
            "56/56 [==============================] - 27s 48ms/step - loss: 0.0119 - val_loss: 0.0041\n",
            "Epoch 2/10\n",
            "56/56 [==============================] - 1s 27ms/step - loss: 8.9692e-04 - val_loss: 0.0018\n",
            "Epoch 3/10\n",
            "56/56 [==============================] - 1s 26ms/step - loss: 6.7968e-04 - val_loss: 0.0028\n",
            "Epoch 4/10\n",
            "56/56 [==============================] - 1s 26ms/step - loss: 4.5200e-04 - val_loss: 0.0015\n",
            "Epoch 5/10\n",
            "56/56 [==============================] - 1s 26ms/step - loss: 4.2360e-04 - val_loss: 0.0154\n",
            "Epoch 6/10\n",
            "56/56 [==============================] - 1s 26ms/step - loss: 6.2335e-04 - val_loss: 0.0138\n",
            "Epoch 7/10\n",
            "56/56 [==============================] - 1s 26ms/step - loss: 4.3407e-04 - val_loss: 0.0196\n",
            "Epoch 8/10\n",
            "56/56 [==============================] - 1s 26ms/step - loss: 4.4711e-04 - val_loss: 6.9679e-04\n",
            "Epoch 9/10\n",
            "56/56 [==============================] - 1s 26ms/step - loss: 2.3759e-04 - val_loss: 0.0015\n",
            "Epoch 10/10\n",
            "56/56 [==============================] - 1s 26ms/step - loss: 2.4966e-04 - val_loss: 0.0012\n"
          ],
          "name": "stdout"
        },
        {
          "output_type": "execute_result",
          "data": {
            "text/plain": [
              "<keras.callbacks.History at 0x7f9c1004dbd0>"
            ]
          },
          "metadata": {
            "tags": []
          },
          "execution_count": 27
        }
      ]
    },
    {
      "cell_type": "code",
      "metadata": {
        "id": "Vywc4Zsj-xeA"
      },
      "source": [
        "# 값 predict하기\n",
        "train_predict = model.predict(X_train)\n",
        "test_predict = model.predict(X_test)"
      ],
      "execution_count": 28,
      "outputs": []
    },
    {
      "cell_type": "code",
      "metadata": {
        "id": "X6BpX_AD_kdu"
      },
      "source": [
        "#0~1로 바뀐값들 원래대로 돌리기\n",
        "train_predict = scaler.inverse_transform(train_predict)\n",
        "test_predict=scaler.inverse_transform(test_predict)"
      ],
      "execution_count": 29,
      "outputs": []
    },
    {
      "cell_type": "code",
      "metadata": {
        "id": "yJVpPGls_lT4",
        "colab": {
          "base_uri": "https://localhost:8080/"
        },
        "outputId": "03bf3254-9eb3-468b-de36-e505f6f51eef"
      },
      "source": [
        "### Calculate RMSE performance metrics\n",
        "math.sqrt(mean_squared_error(y_train,train_predict))"
      ],
      "execution_count": 30,
      "outputs": [
        {
          "output_type": "execute_result",
          "data": {
            "text/plain": [
              "22952906.158569455"
            ]
          },
          "metadata": {
            "tags": []
          },
          "execution_count": 30
        }
      ]
    },
    {
      "cell_type": "code",
      "metadata": {
        "id": "PDFJnnQj_mmc",
        "colab": {
          "base_uri": "https://localhost:8080/"
        },
        "outputId": "594eddda-16a8-4574-aac8-a5a77bbdb1e9"
      },
      "source": [
        "### Test Data RMSE\n",
        "math.sqrt(mean_squared_error(ytest,test_predict))"
      ],
      "execution_count": 31,
      "outputs": [
        {
          "output_type": "execute_result",
          "data": {
            "text/plain": [
              "67806494.4141645"
            ]
          },
          "metadata": {
            "tags": []
          },
          "execution_count": 31
        }
      ]
    },
    {
      "cell_type": "code",
      "metadata": {
        "id": "Cch4c8in_ooO",
        "colab": {
          "base_uri": "https://localhost:8080/",
          "height": 276
        },
        "outputId": "8a20f0fa-2d10-48bd-9e4d-16db1cba9de9"
      },
      "source": [
        "### Plotting \n",
        "# shift train predictions for plotting\n",
        "look_back= time_step\n",
        "trainPredictPlot = np.empty_like(mid_prices)\n",
        "trainPredictPlot[:, :] = np.nan\n",
        "trainPredictPlot[look_back:len(train_predict)+look_back, :] = train_predict\n",
        "# shift test predictions for plotting\n",
        "testPredictPlot = np.empty_like(mid_prices)\n",
        "testPredictPlot[:, :] = np.nan\n",
        "testPredictPlot[len(train_predict)+(look_back*2)+1:len(mid_prices)-1, :] = test_predict\n",
        "# plot baseline and predictions\n",
        "plt.plot(scaler.inverse_transform(mid_prices))\n",
        "plt.plot(trainPredictPlot)\n",
        "plt.plot(testPredictPlot)\n",
        "plt.show()"
      ],
      "execution_count": 32,
      "outputs": [
        {
          "output_type": "display_data",
          "data": {
            "image/png": "[encoded data removed]",
            "text/plain": [
              "<Figure size 432x288 with 1 Axes>"
            ]
          },
          "metadata": {
            "tags": [],
            "needs_background": "light"
          }
        }
      ]
    },
    {
      "cell_type": "code",
      "metadata": {
        "id": "BV5obgG9_piP",
        "colab": {
          "base_uri": "https://localhost:8080/"
        },
        "outputId": "edcf15d2-9cae-4f62-9de5-d63e08a5d98b"
      },
      "source": [
        "#이제 테스트 데이터에서 이전 100일전 데이터를 가져와야 한다.\n",
        "len(test_data)"
      ],
      "execution_count": 33,
      "outputs": [
        {
          "output_type": "execute_result",
          "data": {
            "text/plain": [
              "398"
            ]
          },
          "metadata": {
            "tags": []
          },
          "execution_count": 33
        }
      ]
    },
    {
      "cell_type": "code",
      "metadata": {
        "id": "RGqXXkeb_w_Y",
        "colab": {
          "base_uri": "https://localhost:8080/"
        },
        "outputId": "accaaef5-4eb8-4998-8a3f-760ef7d57666"
      },
      "source": [
        "split_index = len(test_data) - time_step #*전체 테스트 데이터 - 100 이후의 값만 가져온다(맨끝의 100일것)\n",
        "x_input=test_data[split_index:].reshape(1,-1)\n",
        "x_input.shape"
      ],
      "execution_count": 34,
      "outputs": [
        {
          "output_type": "execute_result",
          "data": {
            "text/plain": [
              "(1, 50)"
            ]
          },
          "metadata": {
            "tags": []
          },
          "execution_count": 34
        }
      ]
    },
    {
      "cell_type": "code",
      "metadata": {
        "id": "T4ZhajaZ_xwj",
        "colab": {
          "base_uri": "https://localhost:8080/"
        },
        "outputId": "a1b1d9ea-171d-46af-b879-68f6934843ce"
      },
      "source": [
        "temp_input=list(x_input) #리스트 변환\n",
        "temp_input=temp_input[0].tolist()\n",
        "len(temp_input)"
      ],
      "execution_count": 35,
      "outputs": [
        {
          "output_type": "execute_result",
          "data": {
            "text/plain": [
              "50"
            ]
          },
          "metadata": {
            "tags": []
          },
          "execution_count": 35
        }
      ]
    },
    {
      "cell_type": "code",
      "metadata": {
        "id": "bgkbYKn7_yjK",
        "colab": {
          "base_uri": "https://localhost:8080/"
        },
        "outputId": "81e19057-4bcf-4c8b-972a-05ce9f8ae481"
      },
      "source": [
        "# demonstrate prediction for next 10 days\n",
        "from numpy import array\n",
        "\n",
        "lst_output=[]\n",
        "n_steps= time_step\n",
        "i=0\n",
        "\n",
        "while(i < future_step): #다음 29 스탭 미래 (미래 30번까지 예측)\n",
        "    \n",
        "    if(len(temp_input) > time_step): #100개가 넘어가면\n",
        "        #print(temp_input)\n",
        "        x_input=np.array(temp_input[1:])  #1칸 밀기\n",
        "        print(\"{} day input {}\".format(i,x_input))\n",
        "        x_input=x_input.reshape(1,-1) \n",
        "        x_input = x_input.reshape((1, n_steps, 1))\n",
        "        #print(x_input)\n",
        "        yhat = model.predict(x_input, verbose=0)\n",
        "        print(\"{} day output {}\".format(i,yhat))\n",
        "        temp_input.extend(yhat[0].tolist())\n",
        "        temp_input=temp_input[1:]\n",
        "        #print(temp_input)\n",
        "        lst_output.extend(yhat.tolist())\n",
        "        i=i+1\n",
        "    else:\n",
        "        x_input = x_input.reshape((1, n_steps,1)) \n",
        "        yhat = model.predict(x_input, verbose=0)\n",
        "        print(yhat[0])\n",
        "        temp_input.extend(yhat[0].tolist())\n",
        "        print(len(temp_input))\n",
        "        lst_output.extend(yhat.tolist())\n",
        "        i=i+1\n",
        "    \n",
        "\n",
        "print(lst_output)"
      ],
      "execution_count": 36,
      "outputs": [
        {
          "output_type": "stream",
          "text": [
            "[0.50288737]\n",
            "51\n",
            "1 day input [0.54766269 0.54958886 0.55020656 0.54867891 0.52889916 0.50770467\n",
            " 0.49039573 0.45812245 0.47488675 0.48129624 0.48831679 0.51054079\n",
            " 0.52838773 0.52662761 0.53943995 0.54648707 0.54139269 0.53168214\n",
            " 0.53077219 0.53690936 0.54046281 0.54262809 0.55776511 0.55799094\n",
            " 0.55050545 0.54440814 0.54600885 0.53366809 0.52966963 0.53892188\n",
            " 0.54953573 0.54148567 0.54075506 0.53257881 0.51498426 0.50252394\n",
            " 0.50426414 0.50405159 0.49674544 0.50175348 0.50121548 0.48876845\n",
            " 0.47668008 0.47592954 0.47990143 0.47045657 0.48437147 0.48867546\n",
            " 0.49018983 0.50288737]\n",
            "1 day output [[0.50878125]]\n",
            "2 day input [0.54958886 0.55020656 0.54867891 0.52889916 0.50770467 0.49039573\n",
            " 0.45812245 0.47488675 0.48129624 0.48831679 0.51054079 0.52838773\n",
            " 0.52662761 0.53943995 0.54648707 0.54139269 0.53168214 0.53077219\n",
            " 0.53690936 0.54046281 0.54262809 0.55776511 0.55799094 0.55050545\n",
            " 0.54440814 0.54600885 0.53366809 0.52966963 0.53892188 0.54953573\n",
            " 0.54148567 0.54075506 0.53257881 0.51498426 0.50252394 0.50426414\n",
            " 0.50405159 0.49674544 0.50175348 0.50121548 0.48876845 0.47668008\n",
            " 0.47592954 0.47990143 0.47045657 0.48437147 0.48867546 0.49018983\n",
            " 0.50288737 0.50878125]\n",
            "2 day output [[0.51619446]]\n",
            "3 day input [0.55020656 0.54867891 0.52889916 0.50770467 0.49039573 0.45812245\n",
            " 0.47488675 0.48129624 0.48831679 0.51054079 0.52838773 0.52662761\n",
            " 0.53943995 0.54648707 0.54139269 0.53168214 0.53077219 0.53690936\n",
            " 0.54046281 0.54262809 0.55776511 0.55799094 0.55050545 0.54440814\n",
            " 0.54600885 0.53366809 0.52966963 0.53892188 0.54953573 0.54148567\n",
            " 0.54075506 0.53257881 0.51498426 0.50252394 0.50426414 0.50405159\n",
            " 0.49674544 0.50175348 0.50121548 0.48876845 0.47668008 0.47592954\n",
            " 0.47990143 0.47045657 0.48437147 0.48867546 0.49018983 0.50288737\n",
            " 0.50878125 0.51619446]\n",
            "3 day output [[0.5245975]]\n",
            "4 day input [0.54867891 0.52889916 0.50770467 0.49039573 0.45812245 0.47488675\n",
            " 0.48129624 0.48831679 0.51054079 0.52838773 0.52662761 0.53943995\n",
            " 0.54648707 0.54139269 0.53168214 0.53077219 0.53690936 0.54046281\n",
            " 0.54262809 0.55776511 0.55799094 0.55050545 0.54440814 0.54600885\n",
            " 0.53366809 0.52966963 0.53892188 0.54953573 0.54148567 0.54075506\n",
            " 0.53257881 0.51498426 0.50252394 0.50426414 0.50405159 0.49674544\n",
            " 0.50175348 0.50121548 0.48876845 0.47668008 0.47592954 0.47990143\n",
            " 0.47045657 0.48437147 0.48867546 0.49018983 0.50288737 0.50878125\n",
            " 0.51619446 0.52459753]\n",
            "4 day output [[0.5336539]]\n",
            "5 day input [0.52889916 0.50770467 0.49039573 0.45812245 0.47488675 0.48129624\n",
            " 0.48831679 0.51054079 0.52838773 0.52662761 0.53943995 0.54648707\n",
            " 0.54139269 0.53168214 0.53077219 0.53690936 0.54046281 0.54262809\n",
            " 0.55776511 0.55799094 0.55050545 0.54440814 0.54600885 0.53366809\n",
            " 0.52966963 0.53892188 0.54953573 0.54148567 0.54075506 0.53257881\n",
            " 0.51498426 0.50252394 0.50426414 0.50405159 0.49674544 0.50175348\n",
            " 0.50121548 0.48876845 0.47668008 0.47592954 0.47990143 0.47045657\n",
            " 0.48437147 0.48867546 0.49018983 0.50288737 0.50878125 0.51619446\n",
            " 0.52459753 0.53365391]\n",
            "5 day output [[0.5431372]]\n",
            "6 day input [0.50770467 0.49039573 0.45812245 0.47488675 0.48129624 0.48831679\n",
            " 0.51054079 0.52838773 0.52662761 0.53943995 0.54648707 0.54139269\n",
            " 0.53168214 0.53077219 0.53690936 0.54046281 0.54262809 0.55776511\n",
            " 0.55799094 0.55050545 0.54440814 0.54600885 0.53366809 0.52966963\n",
            " 0.53892188 0.54953573 0.54148567 0.54075506 0.53257881 0.51498426\n",
            " 0.50252394 0.50426414 0.50405159 0.49674544 0.50175348 0.50121548\n",
            " 0.48876845 0.47668008 0.47592954 0.47990143 0.47045657 0.48437147\n",
            " 0.48867546 0.49018983 0.50288737 0.50878125 0.51619446 0.52459753\n",
            " 0.53365391 0.54313719]\n",
            "6 day output [[0.55288553]]\n",
            "7 day input [0.49039573 0.45812245 0.47488675 0.48129624 0.48831679 0.51054079\n",
            " 0.52838773 0.52662761 0.53943995 0.54648707 0.54139269 0.53168214\n",
            " 0.53077219 0.53690936 0.54046281 0.54262809 0.55776511 0.55799094\n",
            " 0.55050545 0.54440814 0.54600885 0.53366809 0.52966963 0.53892188\n",
            " 0.54953573 0.54148567 0.54075506 0.53257881 0.51498426 0.50252394\n",
            " 0.50426414 0.50405159 0.49674544 0.50175348 0.50121548 0.48876845\n",
            " 0.47668008 0.47592954 0.47990143 0.47045657 0.48437147 0.48867546\n",
            " 0.49018983 0.50288737 0.50878125 0.51619446 0.52459753 0.53365391\n",
            " 0.54313719 0.55288553]\n",
            "7 day output [[0.5627756]]\n",
            "8 day input [0.45812245 0.47488675 0.48129624 0.48831679 0.51054079 0.52838773\n",
            " 0.52662761 0.53943995 0.54648707 0.54139269 0.53168214 0.53077219\n",
            " 0.53690936 0.54046281 0.54262809 0.55776511 0.55799094 0.55050545\n",
            " 0.54440814 0.54600885 0.53366809 0.52966963 0.53892188 0.54953573\n",
            " 0.54148567 0.54075506 0.53257881 0.51498426 0.50252394 0.50426414\n",
            " 0.50405159 0.49674544 0.50175348 0.50121548 0.48876845 0.47668008\n",
            " 0.47592954 0.47990143 0.47045657 0.48437147 0.48867546 0.49018983\n",
            " 0.50288737 0.50878125 0.51619446 0.52459753 0.53365391 0.54313719\n",
            " 0.55288553 0.56277561]\n",
            "8 day output [[0.57270986]]\n",
            "9 day input [0.47488675 0.48129624 0.48831679 0.51054079 0.52838773 0.52662761\n",
            " 0.53943995 0.54648707 0.54139269 0.53168214 0.53077219 0.53690936\n",
            " 0.54046281 0.54262809 0.55776511 0.55799094 0.55050545 0.54440814\n",
            " 0.54600885 0.53366809 0.52966963 0.53892188 0.54953573 0.54148567\n",
            " 0.54075506 0.53257881 0.51498426 0.50252394 0.50426414 0.50405159\n",
            " 0.49674544 0.50175348 0.50121548 0.48876845 0.47668008 0.47592954\n",
            " 0.47990143 0.47045657 0.48437147 0.48867546 0.49018983 0.50288737\n",
            " 0.50878125 0.51619446 0.52459753 0.53365391 0.54313719 0.55288553\n",
            " 0.56277561 0.57270986]\n",
            "9 day output [[0.58261037]]\n",
            "10 day input [0.48129624 0.48831679 0.51054079 0.52838773 0.52662761 0.53943995\n",
            " 0.54648707 0.54139269 0.53168214 0.53077219 0.53690936 0.54046281\n",
            " 0.54262809 0.55776511 0.55799094 0.55050545 0.54440814 0.54600885\n",
            " 0.53366809 0.52966963 0.53892188 0.54953573 0.54148567 0.54075506\n",
            " 0.53257881 0.51498426 0.50252394 0.50426414 0.50405159 0.49674544\n",
            " 0.50175348 0.50121548 0.48876845 0.47668008 0.47592954 0.47990143\n",
            " 0.47045657 0.48437147 0.48867546 0.49018983 0.50288737 0.50878125\n",
            " 0.51619446 0.52459753 0.53365391 0.54313719 0.55288553 0.56277561\n",
            " 0.57270986 0.58261037]\n",
            "10 day output [[0.59241265]]\n",
            "11 day input [0.48831679 0.51054079 0.52838773 0.52662761 0.53943995 0.54648707\n",
            " 0.54139269 0.53168214 0.53077219 0.53690936 0.54046281 0.54262809\n",
            " 0.55776511 0.55799094 0.55050545 0.54440814 0.54600885 0.53366809\n",
            " 0.52966963 0.53892188 0.54953573 0.54148567 0.54075506 0.53257881\n",
            " 0.51498426 0.50252394 0.50426414 0.50405159 0.49674544 0.50175348\n",
            " 0.50121548 0.48876845 0.47668008 0.47592954 0.47990143 0.47045657\n",
            " 0.48437147 0.48867546 0.49018983 0.50288737 0.50878125 0.51619446\n",
            " 0.52459753 0.53365391 0.54313719 0.55288553 0.56277561 0.57270986\n",
            " 0.58261037 0.59241265]\n",
            "11 day output [[0.60206723]]\n",
            "12 day input [0.51054079 0.52838773 0.52662761 0.53943995 0.54648707 0.54139269\n",
            " 0.53168214 0.53077219 0.53690936 0.54046281 0.54262809 0.55776511\n",
            " 0.55799094 0.55050545 0.54440814 0.54600885 0.53366809 0.52966963\n",
            " 0.53892188 0.54953573 0.54148567 0.54075506 0.53257881 0.51498426\n",
            " 0.50252394 0.50426414 0.50405159 0.49674544 0.50175348 0.50121548\n",
            " 0.48876845 0.47668008 0.47592954 0.47990143 0.47045657 0.48437147\n",
            " 0.48867546 0.49018983 0.50288737 0.50878125 0.51619446 0.52459753\n",
            " 0.53365391 0.54313719 0.55288553 0.56277561 0.57270986 0.58261037\n",
            " 0.59241265 0.60206723]\n",
            "12 day output [[0.61153674]]\n",
            "13 day input [0.52838773 0.52662761 0.53943995 0.54648707 0.54139269 0.53168214\n",
            " 0.53077219 0.53690936 0.54046281 0.54262809 0.55776511 0.55799094\n",
            " 0.55050545 0.54440814 0.54600885 0.53366809 0.52966963 0.53892188\n",
            " 0.54953573 0.54148567 0.54075506 0.53257881 0.51498426 0.50252394\n",
            " 0.50426414 0.50405159 0.49674544 0.50175348 0.50121548 0.48876845\n",
            " 0.47668008 0.47592954 0.47990143 0.47045657 0.48437147 0.48867546\n",
            " 0.49018983 0.50288737 0.50878125 0.51619446 0.52459753 0.53365391\n",
            " 0.54313719 0.55288553 0.56277561 0.57270986 0.58261037 0.59241265\n",
            " 0.60206723 0.61153674]\n",
            "13 day output [[0.62079424]]\n",
            "14 day input [0.52662761 0.53943995 0.54648707 0.54139269 0.53168214 0.53077219\n",
            " 0.53690936 0.54046281 0.54262809 0.55776511 0.55799094 0.55050545\n",
            " 0.54440814 0.54600885 0.53366809 0.52966963 0.53892188 0.54953573\n",
            " 0.54148567 0.54075506 0.53257881 0.51498426 0.50252394 0.50426414\n",
            " 0.50405159 0.49674544 0.50175348 0.50121548 0.48876845 0.47668008\n",
            " 0.47592954 0.47990143 0.47045657 0.48437147 0.48867546 0.49018983\n",
            " 0.50288737 0.50878125 0.51619446 0.52459753 0.53365391 0.54313719\n",
            " 0.55288553 0.56277561 0.57270986 0.58261037 0.59241265 0.60206723\n",
            " 0.61153674 0.62079424]\n",
            "14 day output [[0.62982416]]\n",
            "15 day input [0.53943995 0.54648707 0.54139269 0.53168214 0.53077219 0.53690936\n",
            " 0.54046281 0.54262809 0.55776511 0.55799094 0.55050545 0.54440814\n",
            " 0.54600885 0.53366809 0.52966963 0.53892188 0.54953573 0.54148567\n",
            " 0.54075506 0.53257881 0.51498426 0.50252394 0.50426414 0.50405159\n",
            " 0.49674544 0.50175348 0.50121548 0.48876845 0.47668008 0.47592954\n",
            " 0.47990143 0.47045657 0.48437147 0.48867546 0.49018983 0.50288737\n",
            " 0.50878125 0.51619446 0.52459753 0.53365391 0.54313719 0.55288553\n",
            " 0.56277561 0.57270986 0.58261037 0.59241265 0.60206723 0.61153674\n",
            " 0.62079424 0.62982416]\n",
            "15 day output [[0.6386202]]\n",
            "16 day input [0.54648707 0.54139269 0.53168214 0.53077219 0.53690936 0.54046281\n",
            " 0.54262809 0.55776511 0.55799094 0.55050545 0.54440814 0.54600885\n",
            " 0.53366809 0.52966963 0.53892188 0.54953573 0.54148567 0.54075506\n",
            " 0.53257881 0.51498426 0.50252394 0.50426414 0.50405159 0.49674544\n",
            " 0.50175348 0.50121548 0.48876845 0.47668008 0.47592954 0.47990143\n",
            " 0.47045657 0.48437147 0.48867546 0.49018983 0.50288737 0.50878125\n",
            " 0.51619446 0.52459753 0.53365391 0.54313719 0.55288553 0.56277561\n",
            " 0.57270986 0.58261037 0.59241265 0.60206723 0.61153674 0.62079424\n",
            " 0.62982416 0.6386202 ]\n",
            "16 day output [[0.6471841]]\n",
            "17 day input [0.54139269 0.53168214 0.53077219 0.53690936 0.54046281 0.54262809\n",
            " 0.55776511 0.55799094 0.55050545 0.54440814 0.54600885 0.53366809\n",
            " 0.52966963 0.53892188 0.54953573 0.54148567 0.54075506 0.53257881\n",
            " 0.51498426 0.50252394 0.50426414 0.50405159 0.49674544 0.50175348\n",
            " 0.50121548 0.48876845 0.47668008 0.47592954 0.47990143 0.47045657\n",
            " 0.48437147 0.48867546 0.49018983 0.50288737 0.50878125 0.51619446\n",
            " 0.52459753 0.53365391 0.54313719 0.55288553 0.56277561 0.57270986\n",
            " 0.58261037 0.59241265 0.60206723 0.61153674 0.62079424 0.62982416\n",
            " 0.6386202  0.64718407]\n",
            "17 day output [[0.65552485]]\n",
            "18 day input [0.53168214 0.53077219 0.53690936 0.54046281 0.54262809 0.55776511\n",
            " 0.55799094 0.55050545 0.54440814 0.54600885 0.53366809 0.52966963\n",
            " 0.53892188 0.54953573 0.54148567 0.54075506 0.53257881 0.51498426\n",
            " 0.50252394 0.50426414 0.50405159 0.49674544 0.50175348 0.50121548\n",
            " 0.48876845 0.47668008 0.47592954 0.47990143 0.47045657 0.48437147\n",
            " 0.48867546 0.49018983 0.50288737 0.50878125 0.51619446 0.52459753\n",
            " 0.53365391 0.54313719 0.55288553 0.56277561 0.57270986 0.58261037\n",
            " 0.59241265 0.60206723 0.61153674 0.62079424 0.62982416 0.6386202\n",
            " 0.64718407 0.65552485]\n",
            "18 day output [[0.6636583]]\n",
            "19 day input [0.53077219 0.53690936 0.54046281 0.54262809 0.55776511 0.55799094\n",
            " 0.55050545 0.54440814 0.54600885 0.53366809 0.52966963 0.53892188\n",
            " 0.54953573 0.54148567 0.54075506 0.53257881 0.51498426 0.50252394\n",
            " 0.50426414 0.50405159 0.49674544 0.50175348 0.50121548 0.48876845\n",
            " 0.47668008 0.47592954 0.47990143 0.47045657 0.48437147 0.48867546\n",
            " 0.49018983 0.50288737 0.50878125 0.51619446 0.52459753 0.53365391\n",
            " 0.54313719 0.55288553 0.56277561 0.57270986 0.58261037 0.59241265\n",
            " 0.60206723 0.61153674 0.62079424 0.62982416 0.6386202  0.64718407\n",
            " 0.65552485 0.66365832]\n",
            "19 day output [[0.6716045]]\n",
            "20 day input [0.53690936 0.54046281 0.54262809 0.55776511 0.55799094 0.55050545\n",
            " 0.54440814 0.54600885 0.53366809 0.52966963 0.53892188 0.54953573\n",
            " 0.54148567 0.54075506 0.53257881 0.51498426 0.50252394 0.50426414\n",
            " 0.50405159 0.49674544 0.50175348 0.50121548 0.48876845 0.47668008\n",
            " 0.47592954 0.47990143 0.47045657 0.48437147 0.48867546 0.49018983\n",
            " 0.50288737 0.50878125 0.51619446 0.52459753 0.53365391 0.54313719\n",
            " 0.55288553 0.56277561 0.57270986 0.58261037 0.59241265 0.60206723\n",
            " 0.61153674 0.62079424 0.62982416 0.6386202  0.64718407 0.65552485\n",
            " 0.66365832 0.67160451]\n",
            "20 day output [[0.6793872]]\n",
            "21 day input [0.54046281 0.54262809 0.55776511 0.55799094 0.55050545 0.54440814\n",
            " 0.54600885 0.53366809 0.52966963 0.53892188 0.54953573 0.54148567\n",
            " 0.54075506 0.53257881 0.51498426 0.50252394 0.50426414 0.50405159\n",
            " 0.49674544 0.50175348 0.50121548 0.48876845 0.47668008 0.47592954\n",
            " 0.47990143 0.47045657 0.48437147 0.48867546 0.49018983 0.50288737\n",
            " 0.50878125 0.51619446 0.52459753 0.53365391 0.54313719 0.55288553\n",
            " 0.56277561 0.57270986 0.58261037 0.59241265 0.60206723 0.61153674\n",
            " 0.62079424 0.62982416 0.6386202  0.64718407 0.65552485 0.66365832\n",
            " 0.67160451 0.67938721]\n",
            "21 day output [[0.6870325]]\n",
            "22 day input [0.54262809 0.55776511 0.55799094 0.55050545 0.54440814 0.54600885\n",
            " 0.53366809 0.52966963 0.53892188 0.54953573 0.54148567 0.54075506\n",
            " 0.53257881 0.51498426 0.50252394 0.50426414 0.50405159 0.49674544\n",
            " 0.50175348 0.50121548 0.48876845 0.47668008 0.47592954 0.47990143\n",
            " 0.47045657 0.48437147 0.48867546 0.49018983 0.50288737 0.50878125\n",
            " 0.51619446 0.52459753 0.53365391 0.54313719 0.55288553 0.56277561\n",
            " 0.57270986 0.58261037 0.59241265 0.60206723 0.61153674 0.62079424\n",
            " 0.62982416 0.6386202  0.64718407 0.65552485 0.66365832 0.67160451\n",
            " 0.67938721 0.68703252]\n",
            "22 day output [[0.6945685]]\n",
            "23 day input [0.55776511 0.55799094 0.55050545 0.54440814 0.54600885 0.53366809\n",
            " 0.52966963 0.53892188 0.54953573 0.54148567 0.54075506 0.53257881\n",
            " 0.51498426 0.50252394 0.50426414 0.50405159 0.49674544 0.50175348\n",
            " 0.50121548 0.48876845 0.47668008 0.47592954 0.47990143 0.47045657\n",
            " 0.48437147 0.48867546 0.49018983 0.50288737 0.50878125 0.51619446\n",
            " 0.52459753 0.53365391 0.54313719 0.55288553 0.56277561 0.57270986\n",
            " 0.58261037 0.59241265 0.60206723 0.61153674 0.62079424 0.62982416\n",
            " 0.6386202  0.64718407 0.65552485 0.66365832 0.67160451 0.67938721\n",
            " 0.68703252 0.69456851]\n",
            "23 day output [[0.7020236]]\n",
            "24 day input [0.55799094 0.55050545 0.54440814 0.54600885 0.53366809 0.52966963\n",
            " 0.53892188 0.54953573 0.54148567 0.54075506 0.53257881 0.51498426\n",
            " 0.50252394 0.50426414 0.50405159 0.49674544 0.50175348 0.50121548\n",
            " 0.48876845 0.47668008 0.47592954 0.47990143 0.47045657 0.48437147\n",
            " 0.48867546 0.49018983 0.50288737 0.50878125 0.51619446 0.52459753\n",
            " 0.53365391 0.54313719 0.55288553 0.56277561 0.57270986 0.58261037\n",
            " 0.59241265 0.60206723 0.61153674 0.62079424 0.62982416 0.6386202\n",
            " 0.64718407 0.65552485 0.66365832 0.67160451 0.67938721 0.68703252\n",
            " 0.69456851 0.70202363]\n",
            "24 day output [[0.7094256]]\n",
            "25 day input [0.55050545 0.54440814 0.54600885 0.53366809 0.52966963 0.53892188\n",
            " 0.54953573 0.54148567 0.54075506 0.53257881 0.51498426 0.50252394\n",
            " 0.50426414 0.50405159 0.49674544 0.50175348 0.50121548 0.48876845\n",
            " 0.47668008 0.47592954 0.47990143 0.47045657 0.48437147 0.48867546\n",
            " 0.49018983 0.50288737 0.50878125 0.51619446 0.52459753 0.53365391\n",
            " 0.54313719 0.55288553 0.56277561 0.57270986 0.58261037 0.59241265\n",
            " 0.60206723 0.61153674 0.62079424 0.62982416 0.6386202  0.64718407\n",
            " 0.65552485 0.66365832 0.67160451 0.67938721 0.68703252 0.69456851\n",
            " 0.70202363 0.70942563]\n",
            "25 day output [[0.71680146]]\n",
            "26 day input [0.54440814 0.54600885 0.53366809 0.52966963 0.53892188 0.54953573\n",
            " 0.54148567 0.54075506 0.53257881 0.51498426 0.50252394 0.50426414\n",
            " 0.50405159 0.49674544 0.50175348 0.50121548 0.48876845 0.47668008\n",
            " 0.47592954 0.47990143 0.47045657 0.48437147 0.48867546 0.49018983\n",
            " 0.50288737 0.50878125 0.51619446 0.52459753 0.53365391 0.54313719\n",
            " 0.55288553 0.56277561 0.57270986 0.58261037 0.59241265 0.60206723\n",
            " 0.61153674 0.62079424 0.62982416 0.6386202  0.64718407 0.65552485\n",
            " 0.66365832 0.67160451 0.67938721 0.68703252 0.69456851 0.70202363\n",
            " 0.70942563 0.71680146]\n",
            "26 day output [[0.7241765]]\n",
            "27 day input [0.54600885 0.53366809 0.52966963 0.53892188 0.54953573 0.54148567\n",
            " 0.54075506 0.53257881 0.51498426 0.50252394 0.50426414 0.50405159\n",
            " 0.49674544 0.50175348 0.50121548 0.48876845 0.47668008 0.47592954\n",
            " 0.47990143 0.47045657 0.48437147 0.48867546 0.49018983 0.50288737\n",
            " 0.50878125 0.51619446 0.52459753 0.53365391 0.54313719 0.55288553\n",
            " 0.56277561 0.57270986 0.58261037 0.59241265 0.60206723 0.61153674\n",
            " 0.62079424 0.62982416 0.6386202  0.64718407 0.65552485 0.66365832\n",
            " 0.67160451 0.67938721 0.68703252 0.69456851 0.70202363 0.70942563\n",
            " 0.71680146 0.72417653]\n",
            "27 day output [[0.7315731]]\n",
            "28 day input [0.53366809 0.52966963 0.53892188 0.54953573 0.54148567 0.54075506\n",
            " 0.53257881 0.51498426 0.50252394 0.50426414 0.50405159 0.49674544\n",
            " 0.50175348 0.50121548 0.48876845 0.47668008 0.47592954 0.47990143\n",
            " 0.47045657 0.48437147 0.48867546 0.49018983 0.50288737 0.50878125\n",
            " 0.51619446 0.52459753 0.53365391 0.54313719 0.55288553 0.56277561\n",
            " 0.57270986 0.58261037 0.59241265 0.60206723 0.61153674 0.62079424\n",
            " 0.62982416 0.6386202  0.64718407 0.65552485 0.66365832 0.67160451\n",
            " 0.67938721 0.68703252 0.69456851 0.70202363 0.70942563 0.71680146\n",
            " 0.72417653 0.7315731 ]\n",
            "28 day output [[0.7390109]]\n",
            "29 day input [0.52966963 0.53892188 0.54953573 0.54148567 0.54075506 0.53257881\n",
            " 0.51498426 0.50252394 0.50426414 0.50405159 0.49674544 0.50175348\n",
            " 0.50121548 0.48876845 0.47668008 0.47592954 0.47990143 0.47045657\n",
            " 0.48437147 0.48867546 0.49018983 0.50288737 0.50878125 0.51619446\n",
            " 0.52459753 0.53365391 0.54313719 0.55288553 0.56277561 0.57270986\n",
            " 0.58261037 0.59241265 0.60206723 0.61153674 0.62079424 0.62982416\n",
            " 0.6386202  0.64718407 0.65552485 0.66365832 0.67160451 0.67938721\n",
            " 0.68703252 0.69456851 0.70202363 0.70942563 0.71680146 0.72417653\n",
            " 0.7315731  0.73901087]\n",
            "29 day output [[0.74650687]]\n",
            "[[0.5028873682022095], [0.5087812542915344], [0.5161944627761841], [0.5245975255966187], [0.5336539149284363], [0.5431371927261353], [0.5528855323791504], [0.5627756118774414], [0.572709858417511], [0.5826103687286377], [0.5924126505851746], [0.602067232131958], [0.6115367412567139], [0.6207942366600037], [0.629824161529541], [0.6386201977729797], [0.6471840739250183], [0.6555248498916626], [0.6636583209037781], [0.6716045141220093], [0.6793872117996216], [0.6870325207710266], [0.6945685148239136], [0.7020236253738403], [0.7094256281852722], [0.7168014645576477], [0.7241765260696411], [0.7315731048583984], [0.7390108704566956], [0.7465068697929382]]\n"
          ],
          "name": "stdout"
        }
      ]
    },
    {
      "cell_type": "code",
      "metadata": {
        "id": "v46tE2BZ_0fS",
        "colab": {
          "base_uri": "https://localhost:8080/"
        },
        "outputId": "5749f13e-d0d4-4166-a004-712cafecb552"
      },
      "source": [
        "day_new=np.arange(1 , time_step+1) #이전 100개의 경향\n",
        "day_pred=np.arange(time_step+1 ,time_step + 1 + future_step) #이후 창조된 30개의 경향\n",
        "print(len(day_new))\n",
        "print(len(day_pred))"
      ],
      "execution_count": 37,
      "outputs": [
        {
          "output_type": "stream",
          "text": [
            "50\n",
            "30\n"
          ],
          "name": "stdout"
        }
      ]
    },
    {
      "cell_type": "code",
      "metadata": {
        "id": "Pm1xO5UJBaKP",
        "colab": {
          "base_uri": "https://localhost:8080/"
        },
        "outputId": "d394f83c-3bcb-4b32-b349-4ce181c7132d"
      },
      "source": [
        "len(mid_prices)"
      ],
      "execution_count": 38,
      "outputs": [
        {
          "output_type": "execute_result",
          "data": {
            "text/plain": [
              "3972"
            ]
          },
          "metadata": {
            "tags": []
          },
          "execution_count": 38
        }
      ]
    },
    {
      "cell_type": "code",
      "metadata": {
        "id": "iS7R-nOy_3Mh",
        "colab": {
          "base_uri": "https://localhost:8080/",
          "height": 294
        },
        "outputId": "749d2410-0c0f-4e54-9f2e-53ff4b0a3724"
      },
      "source": [
        "#스칼라값을 원래대로 돌려준다.\n",
        "\n",
        "plt.plot(day_new , scaler.inverse_transform(mid_prices[len(mid_prices) - time_step:])) #이전 100개의 경향 출력 (전체 mid data에서 뒤의 100개만)\n",
        "plt.plot(day_pred , scaler.inverse_transform(lst_output), 'r') #예측된 output들 출력"
      ],
      "execution_count": 39,
      "outputs": [
        {
          "output_type": "execute_result",
          "data": {
            "text/plain": [
              "[<matplotlib.lines.Line2D at 0x7f9bb974aa50>]"
            ]
          },
          "metadata": {
            "tags": []
          },
          "execution_count": 39
        },
        {
          "output_type": "display_data",
          "data": {
            "image/png": "[encoded data removed]",
            "text/plain": [
              "<Figure size 432x288 with 1 Axes>"
            ]
          },
          "metadata": {
            "tags": [],
            "needs_background": "light"
          }
        }
      ]
    },
    {
      "cell_type": "code",
      "metadata": {
        "id": "0EeXwYvp_4il",
        "colab": {
          "base_uri": "https://localhost:8080/",
          "height": 283
        },
        "outputId": "1ad19825-5915-4ede-fae1-e77cab400c86"
      },
      "source": [
        "df3 = mid_prices.tolist()  #평균값을 리스트로 변환해서 넣는다\n",
        "df3.extend(lst_output) #끊기지 않게 하기 위해 예측값을 끝부분에 추가한다. (잇는다)\n",
        "plt.plot(df3)"
      ],
      "execution_count": 40,
      "outputs": [
        {
          "output_type": "execute_result",
          "data": {
            "text/plain": [
              "[<matplotlib.lines.Line2D at 0x7f9bb994ce10>]"
            ]
          },
          "metadata": {
            "tags": []
          },
          "execution_count": 40
        },
        {
          "output_type": "display_data",
          "data": {
            "image/png": "[encoded data removed]",
            "text/plain": [
              "<Figure size 432x288 with 1 Axes>"
            ]
          },
          "metadata": {
            "tags": [],
            "needs_background": "light"
          }
        }
      ]
    },
    {
      "cell_type": "code",
      "metadata": {
        "id": "q3WnovvcAoa8",
        "colab": {
          "base_uri": "https://localhost:8080/",
          "height": 305
        },
        "outputId": "d19780aa-e2bf-42d5-f542-b3ec41fdf9a3"
      },
      "source": [
        "origin = scaler.inverse_transform(df3).tolist() #df3 값을 원래대로 돌려준다. \n",
        "slice_index = -(len(day_new) + len(day_pred)) #앞의 참고한 데이터 + 추가로 예측한 데이터 개수\n",
        "plt.plot(origin[slice_index:])\n",
        "\n",
        "plt.title(coinName + ' Prediciton', fontsize=20)\n",
        "plt.xlabel('Date', fontsize=15)\n",
        "plt.ylabel('Middle_Prices', fontsize=15)\n",
        "\n",
        "\n",
        "plt.show()"
      ],
      "execution_count": 41,
      "outputs": [
        {
          "output_type": "display_data",
          "data": {
            "image/png": "[encoded data removed]",
            "text/plain": [
              "<Figure size 432x288 with 1 Axes>"
            ]
          },
          "metadata": {
            "tags": [],
            "needs_background": "light"
          }
        }
      ]
    },
    {
      "cell_type": "code",
      "metadata": {
        "id": "dE3kPPgAFH6v"
      },
      "source": [
        "\n",
        "def make_step_date(type_, step): #미래예측 x축 제작 함수\n",
        "  result = []\n",
        "  date_list = data_frame['date'].to_list()\n",
        "  based_data = date_list[-len(day_new):]\n",
        "\n",
        "  latest_time = based_data[-1]\n",
        "  latest_time = latest_time.replace(\"T\", \"-\")\n",
        "  date_obj = datetime.datetime.strptime(latest_time, '%Y-%m-%d-%H:%M:%S')\n",
        "\n",
        "  if type_ == 'days':\n",
        "    for i in range(step):\n",
        "      date_obj = date_obj + timedelta(days = 1)\n",
        "      result.append(str(date_obj))\n",
        "      #print(date_obj)\n",
        "  elif type_ == 'minutes':\n",
        "    for i in range(step):\n",
        "      date_obj = date_obj + timedelta(minutes = int(scale))\n",
        "      result.append(str(date_obj))\n",
        "      #print(date_obj)\n",
        "  return result"
      ],
      "execution_count": 42,
      "outputs": []
    },
    {
      "cell_type": "code",
      "metadata": {
        "id": "CnZF5aY7CbeA"
      },
      "source": [
        "date_list = data_frame['date'].to_list()\n",
        "based_data = date_list[-len(day_new):]\n",
        "future_date = make_step_date(type, future_step)\n",
        "\n",
        "based_data.extend(future_date) #x축 제작 완료"
      ],
      "execution_count": 43,
      "outputs": []
    },
    {
      "cell_type": "code",
      "metadata": {
        "id": "G0XWG3kAKz3N",
        "colab": {
          "base_uri": "https://localhost:8080/"
        },
        "outputId": "73db8980-81b3-4d82-cb1c-e515ea48d258"
      },
      "source": [
        "print(based_data)"
      ],
      "execution_count": 44,
      "outputs": [
        {
          "output_type": "stream",
          "text": [
            "['2021-05-22T17:00:00', '2021-05-22T21:00:00', '2021-05-23T01:00:00', '2021-05-23T05:00:00', '2021-05-23T09:00:00', '2021-05-23T13:00:00', '2021-05-23T17:00:00', '2021-05-23T21:00:00', '2021-05-24T01:00:00', '2021-05-24T05:00:00', '2021-05-24T09:00:00', '2021-05-24T13:00:00', '2021-05-24T17:00:00', '2021-05-24T21:00:00', '2021-05-25T01:00:00', '2021-05-25T05:00:00', '2021-05-25T09:00:00', '2021-05-25T13:00:00', '2021-05-25T17:00:00', '2021-05-25T21:00:00', '2021-05-26T01:00:00', '2021-05-26T05:00:00', '2021-05-26T09:00:00', '2021-05-26T13:00:00', '2021-05-26T17:00:00', '2021-05-26T21:00:00', '2021-05-27T01:00:00', '2021-05-27T05:00:00', '2021-05-27T09:00:00', '2021-05-27T13:00:00', '2021-05-27T17:00:00', '2021-05-27T21:00:00', '2021-05-28T01:00:00', '2021-05-28T05:00:00', '2021-05-28T09:00:00', '2021-05-28T13:00:00', '2021-05-28T17:00:00', '2021-05-28T21:00:00', '2021-05-29T01:00:00', '2021-05-29T05:00:00', '2021-05-29T09:00:00', '2021-05-29T13:00:00', '2021-05-29T17:00:00', '2021-05-29T21:00:00', '2021-05-30T01:00:00', '2021-05-30T05:00:00', '2021-05-30T09:00:00', '2021-05-30T13:00:00', '2021-05-30T17:00:00', '2021-05-30T21:00:00', '2021-05-31 01:00:00', '2021-05-31 05:00:00', '2021-05-31 09:00:00', '2021-05-31 13:00:00', '2021-05-31 17:00:00', '2021-05-31 21:00:00', '2021-06-01 01:00:00', '2021-06-01 05:00:00', '2021-06-01 09:00:00', '2021-06-01 13:00:00', '2021-06-01 17:00:00', '2021-06-01 21:00:00', '2021-06-02 01:00:00', '2021-06-02 05:00:00', '2021-06-02 09:00:00', '2021-06-02 13:00:00', '2021-06-02 17:00:00', '2021-06-02 21:00:00', '2021-06-03 01:00:00', '2021-06-03 05:00:00', '2021-06-03 09:00:00', '2021-06-03 13:00:00', '2021-06-03 17:00:00', '2021-06-03 21:00:00', '2021-06-04 01:00:00', '2021-06-04 05:00:00', '2021-06-04 09:00:00', '2021-06-04 13:00:00', '2021-06-04 17:00:00', '2021-06-04 21:00:00']\n"
          ],
          "name": "stdout"
        }
      ]
    },
    {
      "cell_type": "code",
      "metadata": {
        "id": "lo4yDln2Ci4f",
        "colab": {
          "base_uri": "https://localhost:8080/",
          "height": 675
        },
        "outputId": "cba43b07-9a5d-4ce5-dfda-8d43c295fafb"
      },
      "source": [
        "origin = scaler.inverse_transform(df3).tolist() #df3 값을 원래대로 돌려준다. \n",
        "slice_index = -(len(day_new) + len(day_pred)) #앞의 참고한 데이터 + 추가로 예측한 데이터 개수\n",
        "\n",
        "plt.figure(figsize = (21,9))\n",
        "\n",
        "plt.plot(range(len(based_data)), origin[slice_index:])\n",
        "plt.xticks(range(0 , len(based_data)) , labels = based_data ,rotation=90) #눈금 45도 회전해서 출력\n",
        "\n",
        "\n",
        "plt.title(coinName + ' Prediction', fontsize=20)\n",
        "plt.xlabel('Date', fontsize=15)\n",
        "plt.ylabel('Middle_prices', fontsize=15)\n",
        "plt.figtext(.8, .8, f\"type = {type}\\nscale = {scale}\\nwindow_size = {time_step}\\n future_step = {future_step}\", fontsize=12)\n",
        "\n",
        "plt.show()\n"
      ],
      "execution_count": 45,
      "outputs": [
        {
          "output_type": "display_data",
          "data": {
            "image/png": "[encoded data removed]",
            "text/plain": [
              "<Figure size 1512x648 with 1 Axes>"
            ]
          },
          "metadata": {
            "tags": [],
            "needs_background": "light"
          }
        }
      ]
    },
    {
      "cell_type": "code",
      "metadata": {
        "id": "fxB2_PxxHFqj"
      },
      "source": [
        ""
      ],
      "execution_count": 45,
      "outputs": []
    }
  ]
}